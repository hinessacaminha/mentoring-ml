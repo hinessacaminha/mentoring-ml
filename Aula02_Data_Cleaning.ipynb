{
 "cells": [
  {
   "cell_type": "markdown",
   "id": "9a09203d-2c9d-4305-9424-d02c44a3f65b",
   "metadata": {},
   "source": [
    "# Pré-processamento - Limpeza dos Dados"
   ]
  },
  {
   "cell_type": "markdown",
   "id": "8bd07ae1-6500-4112-b7b7-034f269a9397",
   "metadata": {
    "tags": []
   },
   "source": [
    "##### \"A qualidade dos dados **supera** os algoritmos sofisticados\"."
   ]
  },
  {
   "cell_type": "markdown",
   "id": "7beec1cb-3b05-415f-b781-0c1ca4879251",
   "metadata": {},
   "source": [
    "O objetivo da limpeza de dados é assegurar que o seu conjunto de dados:\n",
    "> 1. Seja livre de erros;\n",
    "> 2. Possua qualidade;\n",
    "> 3. Seja preciso e eficiente;\n",
    "> 4. Tenha completude;\n",
    "> 5. Seja consistente."
   ]
  },
  {
   "cell_type": "code",
   "execution_count": 1,
   "id": "562dfdc9-c64f-4971-84f3-de822d139a54",
   "metadata": {},
   "outputs": [],
   "source": [
    "import pandas as pd"
   ]
  },
  {
   "cell_type": "code",
   "execution_count": 34,
   "id": "93a340fc-f56a-4c02-929c-7a1447b6cc52",
   "metadata": {},
   "outputs": [],
   "source": [
    "data = pd.read_csv('datasets/INMET_NE_CE_A305_FORTALEZA_01-01-2020_A_31-12-2020.CSV', sep=';', encoding='ISO-8859-1', decimal=',')"
   ]
  },
  {
   "cell_type": "code",
   "execution_count": 35,
   "id": "f823f8d1-d627-40a1-af3d-dfa39e2b404c",
   "metadata": {},
   "outputs": [
    {
     "data": {
      "text/html": [
       "<div>\n",
       "<style scoped>\n",
       "    .dataframe tbody tr th:only-of-type {\n",
       "        vertical-align: middle;\n",
       "    }\n",
       "\n",
       "    .dataframe tbody tr th {\n",
       "        vertical-align: top;\n",
       "    }\n",
       "\n",
       "    .dataframe thead th {\n",
       "        text-align: right;\n",
       "    }\n",
       "</style>\n",
       "<table border=\"1\" class=\"dataframe\">\n",
       "  <thead>\n",
       "    <tr style=\"text-align: right;\">\n",
       "      <th></th>\n",
       "      <th>Data</th>\n",
       "      <th>Hora UTC</th>\n",
       "      <th>PRECIPITAÇÃO TOTAL, HORÁRIO (mm)</th>\n",
       "      <th>PRESSAO ATMOSFERICA AO NIVEL DA ESTACAO, HORARIA (mB)</th>\n",
       "      <th>PRESSÃO ATMOSFERICA MAX.NA HORA ANT. (AUT) (mB)</th>\n",
       "      <th>PRESSÃO ATMOSFERICA MIN. NA HORA ANT. (AUT) (mB)</th>\n",
       "      <th>RADIACAO GLOBAL (Kj/m²)</th>\n",
       "      <th>TEMPERATURA DO AR - BULBO SECO, HORARIA (°C)</th>\n",
       "      <th>TEMPERATURA DO PONTO DE ORVALHO (°C)</th>\n",
       "      <th>TEMPERATURA MÁXIMA NA HORA ANT. (AUT) (°C)</th>\n",
       "      <th>TEMPERATURA MÍNIMA NA HORA ANT. (AUT) (°C)</th>\n",
       "      <th>TEMPERATURA ORVALHO MAX. NA HORA ANT. (AUT) (°C)</th>\n",
       "      <th>TEMPERATURA ORVALHO MIN. NA HORA ANT. (AUT) (°C)</th>\n",
       "      <th>UMIDADE REL. MAX. NA HORA ANT. (AUT) (%)</th>\n",
       "      <th>UMIDADE REL. MIN. NA HORA ANT. (AUT) (%)</th>\n",
       "      <th>UMIDADE RELATIVA DO AR, HORARIA (%)</th>\n",
       "      <th>VENTO, DIREÇÃO HORARIA (gr) (° (gr))</th>\n",
       "      <th>VENTO, RAJADA MAXIMA (m/s)</th>\n",
       "      <th>VENTO, VELOCIDADE HORARIA (m/s)</th>\n",
       "      <th>Unnamed: 19</th>\n",
       "    </tr>\n",
       "  </thead>\n",
       "  <tbody>\n",
       "    <tr>\n",
       "      <th>0</th>\n",
       "      <td>2020/01/01</td>\n",
       "      <td>0000 UTC</td>\n",
       "      <td>0.0</td>\n",
       "      <td>1008.8</td>\n",
       "      <td>1008.8</td>\n",
       "      <td>1008.4</td>\n",
       "      <td>5.2</td>\n",
       "      <td>25.7</td>\n",
       "      <td>23.0</td>\n",
       "      <td>26.4</td>\n",
       "      <td>25.7</td>\n",
       "      <td>23.2</td>\n",
       "      <td>22.8</td>\n",
       "      <td>85.0</td>\n",
       "      <td>82.0</td>\n",
       "      <td>85.0</td>\n",
       "      <td>38.0</td>\n",
       "      <td>1.8</td>\n",
       "      <td>0.0</td>\n",
       "      <td>NaN</td>\n",
       "    </tr>\n",
       "    <tr>\n",
       "      <th>1</th>\n",
       "      <td>2020/01/01</td>\n",
       "      <td>0100 UTC</td>\n",
       "      <td>0.0</td>\n",
       "      <td>1009.5</td>\n",
       "      <td>1009.6</td>\n",
       "      <td>1008.8</td>\n",
       "      <td>9.5</td>\n",
       "      <td>26.1</td>\n",
       "      <td>23.3</td>\n",
       "      <td>26.3</td>\n",
       "      <td>25.7</td>\n",
       "      <td>23.5</td>\n",
       "      <td>23.0</td>\n",
       "      <td>86.0</td>\n",
       "      <td>85.0</td>\n",
       "      <td>85.0</td>\n",
       "      <td>21.0</td>\n",
       "      <td>1.8</td>\n",
       "      <td>0.0</td>\n",
       "      <td>NaN</td>\n",
       "    </tr>\n",
       "    <tr>\n",
       "      <th>2</th>\n",
       "      <td>2020/01/01</td>\n",
       "      <td>0200 UTC</td>\n",
       "      <td>0.0</td>\n",
       "      <td>1009.5</td>\n",
       "      <td>1009.5</td>\n",
       "      <td>1009.5</td>\n",
       "      <td>9.8</td>\n",
       "      <td>25.8</td>\n",
       "      <td>23.2</td>\n",
       "      <td>26.2</td>\n",
       "      <td>25.8</td>\n",
       "      <td>23.4</td>\n",
       "      <td>23.1</td>\n",
       "      <td>85.0</td>\n",
       "      <td>84.0</td>\n",
       "      <td>85.0</td>\n",
       "      <td>39.0</td>\n",
       "      <td>1.4</td>\n",
       "      <td>0.0</td>\n",
       "      <td>NaN</td>\n",
       "    </tr>\n",
       "    <tr>\n",
       "      <th>3</th>\n",
       "      <td>2020/01/01</td>\n",
       "      <td>0300 UTC</td>\n",
       "      <td>0.0</td>\n",
       "      <td>1008.9</td>\n",
       "      <td>1009.5</td>\n",
       "      <td>1008.9</td>\n",
       "      <td>10.0</td>\n",
       "      <td>26.2</td>\n",
       "      <td>23.3</td>\n",
       "      <td>26.3</td>\n",
       "      <td>25.8</td>\n",
       "      <td>23.4</td>\n",
       "      <td>23.2</td>\n",
       "      <td>86.0</td>\n",
       "      <td>84.0</td>\n",
       "      <td>84.0</td>\n",
       "      <td>30.0</td>\n",
       "      <td>2.0</td>\n",
       "      <td>0.5</td>\n",
       "      <td>NaN</td>\n",
       "    </tr>\n",
       "    <tr>\n",
       "      <th>4</th>\n",
       "      <td>2020/01/01</td>\n",
       "      <td>0400 UTC</td>\n",
       "      <td>0.0</td>\n",
       "      <td>1008.3</td>\n",
       "      <td>1008.9</td>\n",
       "      <td>1008.3</td>\n",
       "      <td>10.3</td>\n",
       "      <td>25.7</td>\n",
       "      <td>23.2</td>\n",
       "      <td>26.2</td>\n",
       "      <td>25.6</td>\n",
       "      <td>23.3</td>\n",
       "      <td>23.0</td>\n",
       "      <td>86.0</td>\n",
       "      <td>84.0</td>\n",
       "      <td>86.0</td>\n",
       "      <td>203.0</td>\n",
       "      <td>1.5</td>\n",
       "      <td>0.0</td>\n",
       "      <td>NaN</td>\n",
       "    </tr>\n",
       "  </tbody>\n",
       "</table>\n",
       "</div>"
      ],
      "text/plain": [
       "         Data  Hora UTC  PRECIPITAÇÃO TOTAL, HORÁRIO (mm)  \\\n",
       "0  2020/01/01  0000 UTC                               0.0   \n",
       "1  2020/01/01  0100 UTC                               0.0   \n",
       "2  2020/01/01  0200 UTC                               0.0   \n",
       "3  2020/01/01  0300 UTC                               0.0   \n",
       "4  2020/01/01  0400 UTC                               0.0   \n",
       "\n",
       "   PRESSAO ATMOSFERICA AO NIVEL DA ESTACAO, HORARIA (mB)  \\\n",
       "0                                             1008.8       \n",
       "1                                             1009.5       \n",
       "2                                             1009.5       \n",
       "3                                             1008.9       \n",
       "4                                             1008.3       \n",
       "\n",
       "   PRESSÃO ATMOSFERICA MAX.NA HORA ANT. (AUT) (mB)  \\\n",
       "0                                           1008.8   \n",
       "1                                           1009.6   \n",
       "2                                           1009.5   \n",
       "3                                           1009.5   \n",
       "4                                           1008.9   \n",
       "\n",
       "   PRESSÃO ATMOSFERICA MIN. NA HORA ANT. (AUT) (mB)  RADIACAO GLOBAL (Kj/m²)  \\\n",
       "0                                            1008.4                      5.2   \n",
       "1                                            1008.8                      9.5   \n",
       "2                                            1009.5                      9.8   \n",
       "3                                            1008.9                     10.0   \n",
       "4                                            1008.3                     10.3   \n",
       "\n",
       "   TEMPERATURA DO AR - BULBO SECO, HORARIA (°C)  \\\n",
       "0                                          25.7   \n",
       "1                                          26.1   \n",
       "2                                          25.8   \n",
       "3                                          26.2   \n",
       "4                                          25.7   \n",
       "\n",
       "   TEMPERATURA DO PONTO DE ORVALHO (°C)  \\\n",
       "0                                  23.0   \n",
       "1                                  23.3   \n",
       "2                                  23.2   \n",
       "3                                  23.3   \n",
       "4                                  23.2   \n",
       "\n",
       "   TEMPERATURA MÁXIMA NA HORA ANT. (AUT) (°C)  \\\n",
       "0                                        26.4   \n",
       "1                                        26.3   \n",
       "2                                        26.2   \n",
       "3                                        26.3   \n",
       "4                                        26.2   \n",
       "\n",
       "   TEMPERATURA MÍNIMA NA HORA ANT. (AUT) (°C)  \\\n",
       "0                                        25.7   \n",
       "1                                        25.7   \n",
       "2                                        25.8   \n",
       "3                                        25.8   \n",
       "4                                        25.6   \n",
       "\n",
       "   TEMPERATURA ORVALHO MAX. NA HORA ANT. (AUT) (°C)  \\\n",
       "0                                              23.2   \n",
       "1                                              23.5   \n",
       "2                                              23.4   \n",
       "3                                              23.4   \n",
       "4                                              23.3   \n",
       "\n",
       "   TEMPERATURA ORVALHO MIN. NA HORA ANT. (AUT) (°C)  \\\n",
       "0                                              22.8   \n",
       "1                                              23.0   \n",
       "2                                              23.1   \n",
       "3                                              23.2   \n",
       "4                                              23.0   \n",
       "\n",
       "   UMIDADE REL. MAX. NA HORA ANT. (AUT) (%)  \\\n",
       "0                                      85.0   \n",
       "1                                      86.0   \n",
       "2                                      85.0   \n",
       "3                                      86.0   \n",
       "4                                      86.0   \n",
       "\n",
       "   UMIDADE REL. MIN. NA HORA ANT. (AUT) (%)  \\\n",
       "0                                      82.0   \n",
       "1                                      85.0   \n",
       "2                                      84.0   \n",
       "3                                      84.0   \n",
       "4                                      84.0   \n",
       "\n",
       "   UMIDADE RELATIVA DO AR, HORARIA (%)  VENTO, DIREÇÃO HORARIA (gr) (° (gr))  \\\n",
       "0                                 85.0                                  38.0   \n",
       "1                                 85.0                                  21.0   \n",
       "2                                 85.0                                  39.0   \n",
       "3                                 84.0                                  30.0   \n",
       "4                                 86.0                                 203.0   \n",
       "\n",
       "   VENTO, RAJADA MAXIMA (m/s)  VENTO, VELOCIDADE HORARIA (m/s)  Unnamed: 19  \n",
       "0                         1.8                              0.0          NaN  \n",
       "1                         1.8                              0.0          NaN  \n",
       "2                         1.4                              0.0          NaN  \n",
       "3                         2.0                              0.5          NaN  \n",
       "4                         1.5                              0.0          NaN  "
      ]
     },
     "execution_count": 35,
     "metadata": {},
     "output_type": "execute_result"
    }
   ],
   "source": [
    "data.head()"
   ]
  },
  {
   "cell_type": "markdown",
   "id": "54f3bad3-98b5-4329-83cf-48f7cb97be2c",
   "metadata": {},
   "source": [
    "##### 1. Livre de erros"
   ]
  },
  {
   "cell_type": "markdown",
   "id": "0fda009c-0e09-441f-872b-0b29eb8fa6d2",
   "metadata": {},
   "source": [
    "Remoção e/ou tratamento de valores inválidos, errados ou que não possuem nenhum valor para a análise."
   ]
  },
  {
   "cell_type": "code",
   "execution_count": 20,
   "id": "958ddbde-667b-4c06-be70-65cfde725cdb",
   "metadata": {},
   "outputs": [
    {
     "data": {
      "text/plain": [
       "Index(['Data', 'Hora UTC', 'PRECIPITAÇÃO TOTAL. HORÁRIO (mm)',\n",
       "       'PRESSAO ATMOSFERICA AO NIVEL DA ESTACAO. HORARIA (mB)',\n",
       "       'PRESSÃO ATMOSFERICA MAX.NA HORA ANT. (AUT) (mB)',\n",
       "       'PRESSÃO ATMOSFERICA MIN. NA HORA ANT. (AUT) (mB)',\n",
       "       'RADIACAO GLOBAL (Kj/m²)',\n",
       "       'TEMPERATURA DO AR - BULBO SECO. HORARIA (°C)',\n",
       "       'TEMPERATURA DO PONTO DE ORVALHO (°C)',\n",
       "       'TEMPERATURA MÁXIMA NA HORA ANT. (AUT) (°C)',\n",
       "       'TEMPERATURA MÍNIMA NA HORA ANT. (AUT) (°C)',\n",
       "       'TEMPERATURA ORVALHO MAX. NA HORA ANT. (AUT) (°C)',\n",
       "       'TEMPERATURA ORVALHO MIN. NA HORA ANT. (AUT) (°C)',\n",
       "       'UMIDADE REL. MAX. NA HORA ANT. (AUT) (%)',\n",
       "       'UMIDADE REL. MIN. NA HORA ANT. (AUT) (%)',\n",
       "       'UMIDADE RELATIVA DO AR. HORARIA (%)',\n",
       "       'VENTO. DIREÇÃO HORARIA (gr) (° (gr))', 'VENTO. RAJADA MAXIMA (m/s)',\n",
       "       'VENTO. VELOCIDADE HORARIA (m/s)', 'Unnamed: 19'],\n",
       "      dtype='object')"
      ]
     },
     "execution_count": 20,
     "metadata": {},
     "output_type": "execute_result"
    }
   ],
   "source": [
    "data.columns"
   ]
  },
  {
   "cell_type": "markdown",
   "id": "5fc3c122-75c2-4d54-991c-891d42c31992",
   "metadata": {},
   "source": [
    "##### 2. Possua qualidade"
   ]
  },
  {
   "cell_type": "markdown",
   "id": "57448384-c826-4514-93c3-8d84b8bec5c3",
   "metadata": {},
   "source": [
    "Garantir que os dados estejam na formatação adequada."
   ]
  },
  {
   "cell_type": "code",
   "execution_count": 33,
   "id": "9d78a7c5-0a48-4e8d-8bdf-671b4f8d11ee",
   "metadata": {},
   "outputs": [
    {
     "data": {
      "text/plain": [
       "Data                                                      object\n",
       "Hora UTC                                                  object\n",
       "PRECIPITAÇÃO TOTAL, HORÁRIO (mm)                          object\n",
       "PRESSAO ATMOSFERICA AO NIVEL DA ESTACAO, HORARIA (mB)     object\n",
       "PRESSÃO ATMOSFERICA MAX.NA HORA ANT. (AUT) (mB)           object\n",
       "PRESSÃO ATMOSFERICA MIN. NA HORA ANT. (AUT) (mB)          object\n",
       "RADIACAO GLOBAL (Kj/m²)                                   object\n",
       "TEMPERATURA DO AR - BULBO SECO, HORARIA (°C)              object\n",
       "TEMPERATURA DO PONTO DE ORVALHO (°C)                      object\n",
       "TEMPERATURA MÁXIMA NA HORA ANT. (AUT) (°C)                object\n",
       "TEMPERATURA MÍNIMA NA HORA ANT. (AUT) (°C)                object\n",
       "TEMPERATURA ORVALHO MAX. NA HORA ANT. (AUT) (°C)          object\n",
       "TEMPERATURA ORVALHO MIN. NA HORA ANT. (AUT) (°C)          object\n",
       "UMIDADE REL. MAX. NA HORA ANT. (AUT) (%)                 float64\n",
       "UMIDADE REL. MIN. NA HORA ANT. (AUT) (%)                 float64\n",
       "UMIDADE RELATIVA DO AR, HORARIA (%)                      float64\n",
       "VENTO, DIREÇÃO HORARIA (gr) (° (gr))                     float64\n",
       "VENTO, RAJADA MAXIMA (m/s)                                object\n",
       "VENTO, VELOCIDADE HORARIA (m/s)                           object\n",
       "Unnamed: 19                                              float64\n",
       "dtype: object"
      ]
     },
     "execution_count": 33,
     "metadata": {},
     "output_type": "execute_result"
    }
   ],
   "source": [
    "data.dtypes"
   ]
  },
  {
   "cell_type": "markdown",
   "id": "2c7ded16-662b-4926-95dd-24ae1a276f79",
   "metadata": {},
   "source": [
    "##### 3. Seja preciso e eficiente"
   ]
  },
  {
   "cell_type": "markdown",
   "id": "6e660607-7ad1-4347-beab-ac4d2c7047cc",
   "metadata": {},
   "source": [
    "Garantir de que os dados são realmente confiáveis e precisos dentro do seu contexto."
   ]
  },
  {
   "cell_type": "markdown",
   "id": "bfdbfc88-e629-4784-8877-9a8485971095",
   "metadata": {},
   "source": [
    "##### 4. Tenha completude"
   ]
  },
  {
   "cell_type": "markdown",
   "id": "05739cdd-f0bf-4d28-b3b0-71baa28538b6",
   "metadata": {},
   "source": [
    "Garantir que os dados estejam completos (tarefa difícil e demorada)."
   ]
  },
  {
   "cell_type": "markdown",
   "id": "4ba4c7f0-bccb-4258-b3f8-73bc3e999720",
   "metadata": {},
   "source": [
    "##### 5. Seja consistente"
   ]
  },
  {
   "cell_type": "code",
   "execution_count": 28,
   "id": "48d23716-09b4-4b2b-b01b-17fc6a42da30",
   "metadata": {},
   "outputs": [
    {
     "data": {
      "text/plain": [
       "False    8784\n",
       "dtype: int64"
      ]
     },
     "execution_count": 28,
     "metadata": {},
     "output_type": "execute_result"
    }
   ],
   "source": [
    "data.duplicated().value_counts()"
   ]
  },
  {
   "cell_type": "code",
   "execution_count": null,
   "id": "6cf11648-433b-4faa-bc70-9f5b512c692e",
   "metadata": {},
   "outputs": [],
   "source": []
  }
 ],
 "metadata": {
  "kernelspec": {
   "display_name": "Python 3 (ipykernel)",
   "language": "python",
   "name": "python3"
  },
  "language_info": {
   "codemirror_mode": {
    "name": "ipython",
    "version": 3
   },
   "file_extension": ".py",
   "mimetype": "text/x-python",
   "name": "python",
   "nbconvert_exporter": "python",
   "pygments_lexer": "ipython3",
   "version": "3.9.6"
  }
 },
 "nbformat": 4,
 "nbformat_minor": 5
}

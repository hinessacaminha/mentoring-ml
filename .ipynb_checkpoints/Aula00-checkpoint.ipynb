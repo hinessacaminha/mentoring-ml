{
 "cells": [
  {
   "cell_type": "markdown",
   "id": "b9372b82-6576-44db-bd96-4bc887aae4c6",
   "metadata": {},
   "source": [
    "# Mentoria - Machine Learning\n"
   ]
  },
  {
   "cell_type": "markdown",
   "id": "3df2a180-c965-48ea-8a61-38d9aaf7060a",
   "metadata": {},
   "source": [
    "Mentora: Hinessa Caminha\n",
    "Data: 02/08/2021"
   ]
  },
  {
   "cell_type": "markdown",
   "id": "e0ab537e-3860-4009-8fd8-2ce70422e016",
   "metadata": {},
   "source": [
    "## Aula 01 - Revisando o Python e suas bibliotecas"
   ]
  },
  {
   "cell_type": "markdown",
   "id": "adf46ddb-027e-4e8e-8828-803aaae9f4e9",
   "metadata": {},
   "source": [
    "### Configurando seu ambiente"
   ]
  },
  {
   "cell_type": "markdown",
   "id": "048b11c0-752a-4623-a8b0-174ed10c4a57",
   "metadata": {},
   "source": [
    "Antes de mais nada, você irá precisar configurar o seu ambiente de estudos! Para isso, vamos utilizar o **Anaconda** em conjunto com o **Jupyter Lab**. \n",
    "1. Instalando o Anaconda\n",
    "> Faça o [download](https://repo.anaconda.com/archive/Anaconda3-2021.05-Windows-x86_64.exe) do conda e siga o passo a passo de instalação apresentado na GUI; \n",
    "> Após a instalação, abra o prompt de comando do conda, navegue para o diretório desejado, crie e ative o seu ambiente:\n",
    ">> *conda create --name **nome-do-env***  \n",
    ">> *conda activate **nome-do-env***\n",
    "\n",
    "2. Adicionando e executando o Jupyter Lab no seu ambiente\n",
    "> Com o ambiente ativado, adicione:  \n",
    ">> *conda install **jupyterlab***  \n",
    "\n",
    "> Após a instalação, execute o jupyter lab digitando:  \n",
    ">> ***jupyter lab***\n",
    "\n",
    "O jupyter abrirá no seu navegador e você poderá criar seus notebooks!  \n",
    "**Dica:** essa [tabela](https://docs.conda.io/projects/conda/en/4.6.0/_downloads/52a95608c49671267e40c689e0bc00ca/conda-cheatsheet.pdf) possui os principais comandos do conda e poderá ser muito útil durante os seus estudos. :)"
   ]
  },
  {
   "cell_type": "markdown",
   "id": "af6be376-7ab0-4f01-bf1a-bc8a01ff76de",
   "metadata": {
    "tags": []
   },
   "source": [
    "### As principais estruturas de dados do Python"
   ]
  },
  {
   "cell_type": "markdown",
   "id": "ba99ff08-9643-40e0-b684-09be1fac1b53",
   "metadata": {},
   "source": [
    "O python é uma linguagem versátil o suficiente que permite a implementação dos mais diversos tipos de algoritmos. As principais, que iremos revisar aqui, são: \n",
    "\n",
    "1. Listas e arrays\n",
    "2. Tuplas\n",
    "3. Dicionários\n",
    "4. Conjuntos\n",
    "5. Strings\n",
    "\n"
   ]
  }
 ],
 "metadata": {
  "kernelspec": {
   "display_name": "Python 3 (ipykernel)",
   "language": "python",
   "name": "python3"
  },
  "language_info": {
   "codemirror_mode": {
    "name": "ipython",
    "version": 3
   },
   "file_extension": ".py",
   "mimetype": "text/x-python",
   "name": "python",
   "nbconvert_exporter": "python",
   "pygments_lexer": "ipython3",
   "version": "3.9.6"
  }
 },
 "nbformat": 4,
 "nbformat_minor": 5
}

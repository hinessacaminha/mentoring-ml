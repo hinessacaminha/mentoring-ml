{
 "cells": [
  {
   "cell_type": "markdown",
   "id": "b9372b82-6576-44db-bd96-4bc887aae4c6",
   "metadata": {},
   "source": [
    "# Mentoria - Machine Learning\n"
   ]
  },
  {
   "cell_type": "markdown",
   "id": "3df2a180-c965-48ea-8a61-38d9aaf7060a",
   "metadata": {},
   "source": [
    "Mentora: Hinessa Caminha\n",
    "Data: 02/08/2021"
   ]
  },
  {
   "cell_type": "markdown",
   "id": "e0ab537e-3860-4009-8fd8-2ce70422e016",
   "metadata": {},
   "source": [
    "## Aula 00 - Revisando o Python "
   ]
  },
  {
   "cell_type": "markdown",
   "id": "adf46ddb-027e-4e8e-8828-803aaae9f4e9",
   "metadata": {},
   "source": [
    "### Configurando seu ambiente"
   ]
  },
  {
   "cell_type": "markdown",
   "id": "048b11c0-752a-4623-a8b0-174ed10c4a57",
   "metadata": {},
   "source": [
    "Antes de mais nada, você irá precisar configurar o seu ambiente de estudos! Para isso, vamos utilizar o **Anaconda** em conjunto com o **Jupyter Lab**. \n",
    "1. Instalando o Anaconda\n",
    "> Faça o [download](https://repo.anaconda.com/archive/Anaconda3-2021.05-Windows-x86_64.exe) do conda e siga o passo a passo de instalação apresentado na GUI; \n",
    "> Após a instalação, abra o prompt de comando do conda, navegue para o diretório desejado, crie e ative o seu ambiente:\n",
    ">> *conda create --name **nome-do-env***  \n",
    ">> *conda activate **nome-do-env***\n",
    "\n",
    "2. Adicionando e executando o Jupyter Lab no seu ambiente\n",
    "> Com o ambiente ativado, adicione:  \n",
    ">> *conda install **jupyterlab***  \n",
    "\n",
    "> Após a instalação, execute o jupyter lab digitando:  \n",
    ">> ***jupyter lab***\n",
    "\n",
    "O jupyter abrirá no seu navegador e você poderá criar seus notebooks!  \n",
    "**Dica:** essa [tabela](https://docs.conda.io/projects/conda/en/4.6.0/_downloads/52a95608c49671267e40c689e0bc00ca/conda-cheatsheet.pdf) possui os principais comandos do conda e poderá ser muito útil durante os seus estudos. :)"
   ]
  },
  {
   "cell_type": "markdown",
   "id": "af6be376-7ab0-4f01-bf1a-bc8a01ff76de",
   "metadata": {
    "tags": []
   },
   "source": [
    "### As principais estruturas de dados do Python"
   ]
  },
  {
   "cell_type": "markdown",
   "id": "ba99ff08-9643-40e0-b684-09be1fac1b53",
   "metadata": {},
   "source": [
    "O python é uma linguagem versátil o suficiente que permite a implementação dos mais diversos tipos de algoritmos. As principais, que iremos revisar aqui, são: \n",
    "\n",
    "1. Listas\n",
    "2. Tuplas\n",
    "3. Dicionários\n"
   ]
  },
  {
   "cell_type": "markdown",
   "id": "a2d3b1a3-1076-46eb-838c-58a39c1be180",
   "metadata": {},
   "source": [
    "#### 1. Listas "
   ]
  },
  {
   "cell_type": "markdown",
   "id": "e8c707e6-7edf-4339-b6a1-73417b983581",
   "metadata": {},
   "source": [
    "No python, uma lista é uma sequência de itens ordenados. Sua flexibilidade permite aceitar diversos tipos de dados dentro de uma mesma lista.  \n",
    "\n",
    "**Exemplo:**"
   ]
  },
  {
   "cell_type": "code",
   "execution_count": 5,
   "id": "f0b90a07-61b8-4443-910d-ea3195b387ca",
   "metadata": {},
   "outputs": [
    {
     "name": "stdout",
     "output_type": "stream",
     "text": [
      "Sou uma lista de números: [1, 2, 3, 4, 5, 6, 7]\n"
     ]
    }
   ],
   "source": [
    "my_list = [1,2,3,4,5,6,7]\n",
    "print(\"Sou uma lista de números:\", my_list)"
   ]
  },
  {
   "cell_type": "code",
   "execution_count": 6,
   "id": "744fc60a-a531-42cc-ab6f-74cb49682665",
   "metadata": {},
   "outputs": [
    {
     "name": "stdout",
     "output_type": "stream",
     "text": [
      "Agora sou uma lista com vários tipos: [1, 2, 'python', 4, 5, 6, 7]\n"
     ]
    }
   ],
   "source": [
    "my_list = [1, 2,'python', 4, 5,6,7]\n",
    "print(\"Agora sou uma lista com vários tipos:\", my_list)"
   ]
  },
  {
   "cell_type": "markdown",
   "id": "769c8f45-22f3-433d-a238-5f97bf3ccc42",
   "metadata": {},
   "source": [
    "As listas são percorridas através dos seus índices, e atribuições aos seus elementos podem ser feitas também da mesma forma.  \n",
    "\n",
    "**Exemplo:**"
   ]
  },
  {
   "cell_type": "code",
   "execution_count": 7,
   "id": "924b24b2-9754-43ec-a2b1-2a998889de0f",
   "metadata": {},
   "outputs": [
    {
     "name": "stdout",
     "output_type": "stream",
     "text": [
      "O valor no índice 2 é: python\n",
      "O valor do índice 2 após uma nova atribuição é: 50\n"
     ]
    }
   ],
   "source": [
    "print(\"O valor no índice 2 é:\", my_list[2])\n",
    "my_list[2] = 50\n",
    "print(\"O valor do índice 2 após uma nova atribuição é:\", my_list[2])"
   ]
  },
  {
   "cell_type": "markdown",
   "id": "98bd0032-8dd4-4aee-b49b-7fb6ef91282e",
   "metadata": {},
   "source": [
    "O python também permite que sejam acessados os valores da lista dentro de um intervalo específico de indíces, e existem diversas formas de fazer isso.   \n",
    "\n",
    "**Exemplo:**"
   ]
  },
  {
   "cell_type": "code",
   "execution_count": 18,
   "id": "dfc54b92-f261-42b4-81a4-e0816601fcaa",
   "metadata": {},
   "outputs": [
    {
     "name": "stdout",
     "output_type": "stream",
     "text": [
      "Os primeiros 3 valores usando my_list[0:3] são: [1, 2, 50]\n",
      "Os primeiros 3 valores usando my_list[:3] são: [1, 2, 50]\n",
      "Os últimos 3 valores usando my_list[:-3] são: [5, 6, 7]\n",
      "Os valores a partir do índice 3 usando my_list[3:] são: [4, 5, 6, 7]\n"
     ]
    }
   ],
   "source": [
    "print(\"Os primeiros 3 valores usando my_list[0:3] são:\", my_list[0:3])\n",
    "print(\"Os primeiros 3 valores usando my_list[:3] são:\", my_list[:3])\n",
    "print(\"Os últimos 3 valores usando my_list[:-3] são:\", my_list[-3:])\n",
    "print(\"Os valores a partir do índice 3 usando my_list[3:] são:\", my_list[3:])"
   ]
  },
  {
   "cell_type": "markdown",
   "id": "bcbc531d-a610-4d56-afc6-3b8de19c52bb",
   "metadata": {},
   "source": [
    "As listas também possuem vários métodos nativos que permitem as mais diversas manipulações. [Aqui](https://www.devmedia.com.br/como-trabalhar-com-listas-em-python/37460) você encontra um resumo desses métodos. Este é um ótimo link para responder dúvidas pontuais quanto estiver trabalhando com listas!"
   ]
  },
  {
   "cell_type": "markdown",
   "id": "3a1ebe9f-3ef2-4de0-a500-afde24b853d8",
   "metadata": {},
   "source": [
    "#### 2. Tuplas"
   ]
  },
  {
   "cell_type": "markdown",
   "id": "378b321b-8101-45da-8c47-93b63f60d4cd",
   "metadata": {},
   "source": [
    "Assim como as listas, as tuplas também são uma sequência de elementos ordenados. Entretanto, nas tuplas, seus valores são **imutáveis** e não aceitam novas atribuições. As tuplas tmabém podem ser percorridas através de seus índices, assim como as listas.  \n",
    "\n",
    "**Exemplo:**"
   ]
  },
  {
   "cell_type": "code",
   "execution_count": 19,
   "id": "035f8b49-2ead-4d47-9bd8-7d55fb0dd4c4",
   "metadata": {},
   "outputs": [
    {
     "name": "stdout",
     "output_type": "stream",
     "text": [
      "Os primeiros 3 valores usando my_tuple[0:3] são: (1, 2, 3)\n",
      "Os primeiros 3 valores usando my_tuple[:3] são: (1, 2, 3)\n",
      "Os últimos 3 valores usando my_tuple[:-3] são: (3, 4, 'olá')\n",
      "Os valores a partir do índice 3 usando my_tuple[3:] são: (4, 'olá')\n"
     ]
    }
   ],
   "source": [
    "my_tuple = (1,2,3,4, 'olá')\n",
    "print(\"Os primeiros 3 valores usando my_tuple[0:3] são:\", my_tuple[0:3])\n",
    "print(\"Os primeiros 3 valores usando my_tuple[:3] são:\", my_tuple[:3])\n",
    "print(\"Os últimos 3 valores usando my_tuple[:-3] são:\", my_tuple[-3:])\n",
    "print(\"Os valores a partir do índice 3 usando my_tuple[3:] são:\", my_tuple[3:])"
   ]
  },
  {
   "cell_type": "markdown",
   "id": "d98d86f6-2ebf-4b1b-b927-acb1fb6756c2",
   "metadata": {},
   "source": [
    "[Aqui](https://www.devmedia.com.br/colecoes-no-python-listas-tuplas-e-dicionarios/40678#tuplas) você encontra material adicional sobre tuplas."
   ]
  },
  {
   "cell_type": "markdown",
   "id": "06a4dbc6-8fda-4f60-bbed-5c8cc2929036",
   "metadata": {},
   "source": [
    "#### 3. Dicionários"
   ]
  },
  {
   "cell_type": "markdown",
   "id": "1feb5c97-c8f0-4721-9b32-71d75770754b",
   "metadata": {},
   "source": [
    "O dicionário é uma estrutura de chave-valor, onde seus elementos não são necessariamente ordenados. No dicionário, cada item possui um valor de chave único. Esta estrutura é a mais indicada quando se trabalha com um grande volume de dados, uma vez que o acesso aos valores é bastante otimizado. Em machine learning, o dicionário é uma das estruturas mais utilizadas.  \n",
    "\n",
    "**Exemplo:**"
   ]
  },
  {
   "cell_type": "code",
   "execution_count": 21,
   "id": "6c6e4226-6282-4474-bd08-9334af186ad6",
   "metadata": {},
   "outputs": [
    {
     "name": "stdout",
     "output_type": "stream",
     "text": [
      "Eu sou um dicionário, e posso receber diversos tipos de dados em meus valores: {1: 'python', 2: [1, 2, 3], 3: 25}\n"
     ]
    }
   ],
   "source": [
    "my_dict = {1: 'python', 2: [1,2,3], 3: 25}\n",
    "print(\"Eu sou um dicionário, e posso receber diversos tipos de dados em meus valores:\", my_dict)"
   ]
  },
  {
   "cell_type": "code",
   "execution_count": 24,
   "id": "d67f5500-1471-44f8-872d-ec5cdc619764",
   "metadata": {},
   "outputs": [
    {
     "name": "stdout",
     "output_type": "stream",
     "text": [
      "As chaves do dicionário my_dict são: dict_keys([1, 2, 3])\n",
      "Os valores do dicionário my_dict são: dict_values(['python', [1, 2, 3], 25])\n",
      "O valor da chave 1 em my_dict é: python\n"
     ]
    }
   ],
   "source": [
    "print(\"As chaves do dicionário my_dict são:\", my_dict.keys())\n",
    "print(\"Os valores do dicionário my_dict são:\", my_dict.values())\n",
    "print(\"O valor da chave 1 em my_dict é:\" , my_dict[1])"
   ]
  },
  {
   "cell_type": "markdown",
   "id": "5b7a91db-64b2-4361-af1c-754d045274d6",
   "metadata": {},
   "source": [
    "[Aqui](https://www.devmedia.com.br/colecoes-no-python-listas-tuplas-e-dicionarios/40678#dicionarios) você encontra material adicional sobre dicionários."
   ]
  },
  {
   "cell_type": "markdown",
   "id": "946fc8c9-adb2-4604-982f-4f91d9a729ce",
   "metadata": {},
   "source": [
    "### Exercícios"
   ]
  },
  {
   "cell_type": "markdown",
   "id": "8ed7ac40-fb30-4b99-a3dd-edc5bac23b85",
   "metadata": {},
   "source": [
    "Leia o tutorial disponível na documentação oficial do Python neste [link](https://docs.python.org/pt-br/3/tutorial/datastructures.html). Tente executar os exemplos mostrados no tutorial, e altere-os para explorar ainda mais os possíveis resultados. "
   ]
  }
 ],
 "metadata": {
  "kernelspec": {
   "display_name": "Python 3 (ipykernel)",
   "language": "python",
   "name": "python3"
  },
  "language_info": {
   "codemirror_mode": {
    "name": "ipython",
    "version": 3
   },
   "file_extension": ".py",
   "mimetype": "text/x-python",
   "name": "python",
   "nbconvert_exporter": "python",
   "pygments_lexer": "ipython3",
   "version": "3.9.6"
  }
 },
 "nbformat": 4,
 "nbformat_minor": 5
}
